{
 "cells": [
  {
   "cell_type": "code",
   "execution_count": 9,
   "id": "f4829e72",
   "metadata": {},
   "outputs": [],
   "source": [
    "import pandas as pd"
   ]
  },
  {
   "cell_type": "code",
   "execution_count": 10,
   "id": "230f68e9",
   "metadata": {},
   "outputs": [
    {
     "data": {
      "text/html": [
       "<div>\n",
       "<style scoped>\n",
       "    .dataframe tbody tr th:only-of-type {\n",
       "        vertical-align: middle;\n",
       "    }\n",
       "\n",
       "    .dataframe tbody tr th {\n",
       "        vertical-align: top;\n",
       "    }\n",
       "\n",
       "    .dataframe thead th {\n",
       "        text-align: right;\n",
       "    }\n",
       "</style>\n",
       "<table border=\"1\" class=\"dataframe\">\n",
       "  <thead>\n",
       "    <tr style=\"text-align: right;\">\n",
       "      <th></th>\n",
       "      <th>CustomerID</th>\n",
       "      <th>Age</th>\n",
       "      <th>Gender</th>\n",
       "      <th>Tenure</th>\n",
       "      <th>Usage Frequency</th>\n",
       "      <th>Support Calls</th>\n",
       "      <th>Payment Delay</th>\n",
       "      <th>Subscription Type</th>\n",
       "      <th>Contract Length</th>\n",
       "      <th>Total Spend</th>\n",
       "      <th>Last Interaction</th>\n",
       "      <th>Churn</th>\n",
       "    </tr>\n",
       "  </thead>\n",
       "  <tbody>\n",
       "    <tr>\n",
       "      <th>0</th>\n",
       "      <td>2.0</td>\n",
       "      <td>30.0</td>\n",
       "      <td>Female</td>\n",
       "      <td>39.0</td>\n",
       "      <td>14.0</td>\n",
       "      <td>5.0</td>\n",
       "      <td>18.0</td>\n",
       "      <td>Standard</td>\n",
       "      <td>Annual</td>\n",
       "      <td>932.0</td>\n",
       "      <td>17.0</td>\n",
       "      <td>1.0</td>\n",
       "    </tr>\n",
       "    <tr>\n",
       "      <th>1</th>\n",
       "      <td>3.0</td>\n",
       "      <td>65.0</td>\n",
       "      <td>Female</td>\n",
       "      <td>49.0</td>\n",
       "      <td>1.0</td>\n",
       "      <td>10.0</td>\n",
       "      <td>8.0</td>\n",
       "      <td>Basic</td>\n",
       "      <td>Monthly</td>\n",
       "      <td>557.0</td>\n",
       "      <td>6.0</td>\n",
       "      <td>1.0</td>\n",
       "    </tr>\n",
       "    <tr>\n",
       "      <th>2</th>\n",
       "      <td>4.0</td>\n",
       "      <td>55.0</td>\n",
       "      <td>Female</td>\n",
       "      <td>14.0</td>\n",
       "      <td>4.0</td>\n",
       "      <td>6.0</td>\n",
       "      <td>18.0</td>\n",
       "      <td>Basic</td>\n",
       "      <td>Quarterly</td>\n",
       "      <td>185.0</td>\n",
       "      <td>3.0</td>\n",
       "      <td>1.0</td>\n",
       "    </tr>\n",
       "    <tr>\n",
       "      <th>3</th>\n",
       "      <td>5.0</td>\n",
       "      <td>58.0</td>\n",
       "      <td>Male</td>\n",
       "      <td>38.0</td>\n",
       "      <td>21.0</td>\n",
       "      <td>7.0</td>\n",
       "      <td>7.0</td>\n",
       "      <td>Standard</td>\n",
       "      <td>Monthly</td>\n",
       "      <td>396.0</td>\n",
       "      <td>29.0</td>\n",
       "      <td>1.0</td>\n",
       "    </tr>\n",
       "    <tr>\n",
       "      <th>4</th>\n",
       "      <td>6.0</td>\n",
       "      <td>23.0</td>\n",
       "      <td>Male</td>\n",
       "      <td>32.0</td>\n",
       "      <td>20.0</td>\n",
       "      <td>5.0</td>\n",
       "      <td>8.0</td>\n",
       "      <td>Basic</td>\n",
       "      <td>Monthly</td>\n",
       "      <td>617.0</td>\n",
       "      <td>20.0</td>\n",
       "      <td>1.0</td>\n",
       "    </tr>\n",
       "  </tbody>\n",
       "</table>\n",
       "</div>"
      ],
      "text/plain": [
       "   CustomerID   Age  Gender  Tenure  Usage Frequency  Support Calls  \\\n",
       "0         2.0  30.0  Female    39.0             14.0            5.0   \n",
       "1         3.0  65.0  Female    49.0              1.0           10.0   \n",
       "2         4.0  55.0  Female    14.0              4.0            6.0   \n",
       "3         5.0  58.0    Male    38.0             21.0            7.0   \n",
       "4         6.0  23.0    Male    32.0             20.0            5.0   \n",
       "\n",
       "   Payment Delay Subscription Type Contract Length  Total Spend  \\\n",
       "0           18.0          Standard          Annual        932.0   \n",
       "1            8.0             Basic         Monthly        557.0   \n",
       "2           18.0             Basic       Quarterly        185.0   \n",
       "3            7.0          Standard         Monthly        396.0   \n",
       "4            8.0             Basic         Monthly        617.0   \n",
       "\n",
       "   Last Interaction  Churn  \n",
       "0              17.0    1.0  \n",
       "1               6.0    1.0  \n",
       "2               3.0    1.0  \n",
       "3              29.0    1.0  \n",
       "4              20.0    1.0  "
      ]
     },
     "execution_count": 10,
     "metadata": {},
     "output_type": "execute_result"
    }
   ],
   "source": [
    "df = pd.read_csv(\"churn dataset.csv\")\n",
    "df.head()"
   ]
  },
  {
   "cell_type": "markdown",
   "id": "4af5af35",
   "metadata": {},
   "source": [
    "# Basic Information"
   ]
  },
  {
   "cell_type": "code",
   "execution_count": 11,
   "id": "59972ff2",
   "metadata": {},
   "outputs": [
    {
     "name": "stdout",
     "output_type": "stream",
     "text": [
      "DataFrame Sample:\n",
      "        CustomerID   Age  Gender  Tenure  Usage Frequency  Support Calls  \\\n",
      "285630    292744.0  32.0    Male    11.0             29.0            1.0   \n",
      "422564    429679.0  44.0    Male     1.0             20.0            3.0   \n",
      "268613    275727.0  44.0  Female    50.0             21.0            2.0   \n",
      "279049    286163.0  49.0  Female    33.0             21.0            3.0   \n",
      "387119    394234.0  42.0  Female    59.0             22.0            1.0   \n",
      "20080      20089.0  62.0  Female    40.0             11.0            7.0   \n",
      "215757    221258.0  41.0  Female    31.0             20.0            2.0   \n",
      "208120    213283.0  53.0  Female    43.0             30.0            2.0   \n",
      "152001    156812.0  21.0    Male    20.0             14.0            7.0   \n",
      "68819      70428.0  49.0  Female    52.0              5.0            5.0   \n",
      "\n",
      "        Payment Delay Subscription Type Contract Length  Total Spend  \\\n",
      "285630           17.0             Basic       Quarterly       920.87   \n",
      "422564           18.0           Premium       Quarterly       668.72   \n",
      "268613           12.0          Standard       Quarterly       858.96   \n",
      "279049           18.0           Premium          Annual       885.59   \n",
      "387119           15.0          Standard       Quarterly       928.82   \n",
      "20080            23.0           Premium       Quarterly       960.00   \n",
      "215757            6.0           Premium          Annual       288.72   \n",
      "208120           10.0           Premium         Monthly       502.75   \n",
      "152001           11.0             Basic          Annual       282.00   \n",
      "68819            22.0           Premium       Quarterly       511.00   \n",
      "\n",
      "        Last Interaction  Churn  \n",
      "285630               5.0    0.0  \n",
      "422564               5.0    0.0  \n",
      "268613               5.0    0.0  \n",
      "279049               9.0    0.0  \n",
      "387119               1.0    0.0  \n",
      "20080               23.0    1.0  \n",
      "215757              11.0    1.0  \n",
      "208120              11.0    1.0  \n",
      "152001               7.0    1.0  \n",
      "68819               20.0    1.0  \n",
      "\n",
      "DataFrame Size: 440833\n",
      "\n",
      "DataFrame Info:\n",
      "<class 'pandas.core.frame.DataFrame'>\n",
      "RangeIndex: 440833 entries, 0 to 440832\n",
      "Data columns (total 12 columns):\n",
      " #   Column             Non-Null Count   Dtype  \n",
      "---  ------             --------------   -----  \n",
      " 0   CustomerID         440832 non-null  float64\n",
      " 1   Age                440832 non-null  float64\n",
      " 2   Gender             440832 non-null  object \n",
      " 3   Tenure             440832 non-null  float64\n",
      " 4   Usage Frequency    440832 non-null  float64\n",
      " 5   Support Calls      440832 non-null  float64\n",
      " 6   Payment Delay      440832 non-null  float64\n",
      " 7   Subscription Type  440832 non-null  object \n",
      " 8   Contract Length    440832 non-null  object \n",
      " 9   Total Spend        440832 non-null  float64\n",
      " 10  Last Interaction   440832 non-null  float64\n",
      " 11  Churn              440832 non-null  float64\n",
      "dtypes: float64(9), object(3)\n",
      "memory usage: 40.4+ MB\n",
      "\n",
      "\n",
      "Column Names and Types:\n",
      "CustomerID           float64\n",
      "Age                  float64\n",
      "Gender                object\n",
      "Tenure               float64\n",
      "Usage Frequency      float64\n",
      "Support Calls        float64\n",
      "Payment Delay        float64\n",
      "Subscription Type     object\n",
      "Contract Length       object\n",
      "Total Spend          float64\n",
      "Last Interaction     float64\n",
      "Churn                float64\n",
      "dtype: object\n",
      "\n",
      "Missing Values:\n",
      "CustomerID           1\n",
      "Age                  1\n",
      "Gender               1\n",
      "Tenure               1\n",
      "Usage Frequency      1\n",
      "Support Calls        1\n",
      "Payment Delay        1\n",
      "Subscription Type    1\n",
      "Contract Length      1\n",
      "Total Spend          1\n",
      "Last Interaction     1\n",
      "Churn                1\n",
      "dtype: int64\n",
      "\n",
      "Statistics:\n",
      "           CustomerID            Age  Gender         Tenure  Usage Frequency  \\\n",
      "count   440832.000000  440832.000000  440832  440832.000000    440832.000000   \n",
      "unique            NaN            NaN       2            NaN              NaN   \n",
      "top               NaN            NaN    Male            NaN              NaN   \n",
      "freq              NaN            NaN  250252            NaN              NaN   \n",
      "mean    225398.667955      39.373153     NaN      31.256336        15.807494   \n",
      "std     129531.918550      12.442369     NaN      17.255727         8.586242   \n",
      "min          2.000000      18.000000     NaN       1.000000         1.000000   \n",
      "25%     113621.750000      29.000000     NaN      16.000000         9.000000   \n",
      "50%     226125.500000      39.000000     NaN      32.000000        16.000000   \n",
      "75%     337739.250000      48.000000     NaN      46.000000        23.000000   \n",
      "max     449999.000000      65.000000     NaN      60.000000        30.000000   \n",
      "\n",
      "        Support Calls  Payment Delay Subscription Type Contract Length  \\\n",
      "count   440832.000000  440832.000000            440832          440832   \n",
      "unique            NaN            NaN                 3               3   \n",
      "top               NaN            NaN          Standard          Annual   \n",
      "freq              NaN            NaN            149128          177198   \n",
      "mean         3.604437      12.965722               NaN             NaN   \n",
      "std          3.070218       8.258063               NaN             NaN   \n",
      "min          0.000000       0.000000               NaN             NaN   \n",
      "25%          1.000000       6.000000               NaN             NaN   \n",
      "50%          3.000000      12.000000               NaN             NaN   \n",
      "75%          6.000000      19.000000               NaN             NaN   \n",
      "max         10.000000      30.000000               NaN             NaN   \n",
      "\n",
      "          Total Spend  Last Interaction          Churn  \n",
      "count   440832.000000     440832.000000  440832.000000  \n",
      "unique            NaN               NaN            NaN  \n",
      "top               NaN               NaN            NaN  \n",
      "freq              NaN               NaN            NaN  \n",
      "mean       631.616223         14.480868       0.567107  \n",
      "std        240.803001          8.596208       0.495477  \n",
      "min        100.000000          1.000000       0.000000  \n",
      "25%        480.000000          7.000000       0.000000  \n",
      "50%        661.000000         14.000000       1.000000  \n",
      "75%        830.000000         22.000000       1.000000  \n",
      "max       1000.000000         30.000000       1.000000  \n"
     ]
    }
   ],
   "source": [
    "import io\n",
    "def about_df(df):\n",
    "    # Sample view\n",
    "    df_sample = df.sample(10)\n",
    "    \n",
    "    # Get size\n",
    "    size = df.shape[0]\n",
    "    \n",
    "    # Get info (this will print info and not return it, so we capture it separately)\n",
    "    buffer = io.StringIO()\n",
    "    df.info(buf=buffer)\n",
    "    info = buffer.getvalue()\n",
    "\n",
    "    # Get column names and types\n",
    "    columns = df.dtypes\n",
    "    \n",
    "    # Get missing values\n",
    "    missing_values = df.isnull().sum()\n",
    "    \n",
    "    # Get statistics for numerical columns\n",
    "    stats = df.describe(include='all')  # Include 'all' to get stats for non-numerical columns as well\n",
    "    \n",
    "    return df_sample, size, info, columns, missing_values, stats\n",
    "\n",
    "\n",
    "# Get DataFrame information\n",
    "df_sample, size, info, columns, missing_values, stats = about_df(df)\n",
    "\n",
    "# Print the results\n",
    "print('DataFrame Sample:')\n",
    "print(df_sample)\n",
    "print('\\nDataFrame Size:', size)\n",
    "print('\\nDataFrame Info:')\n",
    "print(info)\n",
    "print('\\nColumn Names and Types:')\n",
    "print(columns)\n",
    "print('\\nMissing Values:')\n",
    "print(missing_values)\n",
    "print('\\nStatistics:')\n",
    "print(stats)\n"
   ]
  },
  {
   "cell_type": "markdown",
   "id": "8d083a68",
   "metadata": {},
   "source": [
    "# Basic Statistic About Dataset"
   ]
  },
  {
   "cell_type": "code",
   "execution_count": 12,
   "id": "7cf852d1",
   "metadata": {},
   "outputs": [],
   "source": [
    "def customer_statistics(df):\n",
    "    # Calculate the relevant statistics\n",
    "    average_age = df.iloc[:, 1].mean()\n",
    "    average_tenure = df.iloc[:, 3].mean()\n",
    "    total_spend = df.iloc[:, 9].sum()\n",
    "    average_support_calls = df.iloc[:, 5].mean()\n",
    "    churn_rate = df.iloc[:, 11].mean() * 100\n",
    "    payment_delay_std_dev = df.iloc[:, 6].std()\n",
    "    \n",
    "    # Create a dictionary to store the statistics\n",
    "    statistics = {\n",
    "        'Average Age': average_age,\n",
    "        'Average Tenure': average_tenure,\n",
    "        'Total Spend': total_spend,\n",
    "        'Average Support Calls': average_support_calls,\n",
    "        'Churn Rate (%)': churn_rate,\n",
    "        'Payment Delay Std Dev': payment_delay_std_dev\n",
    "    }\n",
    "    \n",
    "    return statistics"
   ]
  },
  {
   "cell_type": "code",
   "execution_count": 13,
   "id": "2636eaf9",
   "metadata": {},
   "outputs": [
    {
     "name": "stdout",
     "output_type": "stream",
     "text": [
      "Average Age: 39.37\n",
      "Average Tenure: 31.26\n",
      "Total Spend: 278436642.72\n",
      "Average Support Calls: 3.6\n",
      "Churn Rate (%): 56.71\n",
      "Payment Delay Std Dev: 8.26\n"
     ]
    }
   ],
   "source": [
    "# Get the statistics\n",
    "stats = customer_statistics(df)\n",
    "\n",
    "# Print the statistics\n",
    "for key, value in stats.items():\n",
    "    print(f'{key}: {round(value,2)}')"
   ]
  },
  {
   "cell_type": "markdown",
   "id": "8be1e125",
   "metadata": {},
   "source": [
    "# Customer Future Insights\n",
    "\n",
    "Python function that returns six future insights based on the provided customer data, we can focus on predictive metrics and trends that might indicate future behavior or areas of potential concern. These insights could include expected churn, projected total spend, trends in customer behavior, etc."
   ]
  },
  {
   "cell_type": "code",
   "execution_count": 14,
   "id": "b48abcaf",
   "metadata": {},
   "outputs": [
    {
     "name": "stdout",
     "output_type": "stream",
     "text": [
      "Projected Total Spend Next Year: 3341247292.034673\n",
      "Projected Churn Next Year: 249999.56710719728\n",
      "Projected Support Calls Increase: 3.964880271849594\n",
      "Projected Payment Delay Increase: 13.61400771722561\n",
      "Projected Subscription Upgrades: 43823.1\n",
      "Projected Tenure Growth: 37.50760289634146\n"
     ]
    }
   ],
   "source": [
    "import pandas as pd\n",
    "\n",
    "def future_insights(df):\n",
    "    # 1. Projected Total Spend for next year assuming similar behavior\n",
    "    average_monthly_spend = df.iloc[:, 9].mean()\n",
    "    projected_total_spend_next_year = average_monthly_spend * 12 * len(df)\n",
    "    \n",
    "    # 2. Churn Prediction: If churn rate remains the same, expected churn next year\n",
    "    churn_rate = df.iloc[:, 11].mean()\n",
    "    projected_churn_next_year = churn_rate * len(df)\n",
    "    \n",
    "    # 3. Increase in Support Calls: Predict next year's average support calls if trend continues\n",
    "    average_support_calls = df.iloc[:, 5].mean()\n",
    "    projected_support_calls_increase = average_support_calls * 1.1  # Assuming a 10% increase\n",
    "    \n",
    "    # 4. Payment Delay Trend: If delay continues to increase, predict future average delay\n",
    "    average_payment_delay = df.iloc[:, 6].mean()\n",
    "    projected_payment_delay_increase = average_payment_delay * 1.05  # Assuming a 5% increase\n",
    "    \n",
    "    # 5. Subscription Upgrades: Estimate the number of customers who might upgrade their subscription\n",
    "    standard_and_basic_users = df[(df.iloc[:, 7] == 'Standard') | (df.iloc[:, 7] == 'Basic')]\n",
    "    projected_upgrades = len(standard_and_basic_users) * 0.15  # Assuming 15% might upgrade\n",
    "    \n",
    "    # 6. Tenure Growth: Estimate how much tenure might increase if retention strategies are improved\n",
    "    average_tenure = df.iloc[:, 3].mean()\n",
    "    projected_tenure_growth = average_tenure * 1.2  # Assuming a 20% improvement in retention\n",
    "    \n",
    "    # Create a dictionary to store the future insights\n",
    "    insights = {\n",
    "        'Projected Total Spend Next Year': projected_total_spend_next_year,\n",
    "        'Projected Churn Next Year': projected_churn_next_year,\n",
    "        'Projected Support Calls Increase': projected_support_calls_increase,\n",
    "        'Projected Payment Delay Increase': projected_payment_delay_increase,\n",
    "        'Projected Subscription Upgrades': projected_upgrades,\n",
    "        'Projected Tenure Growth': projected_tenure_growth\n",
    "    }\n",
    "    \n",
    "    return insights\n",
    "\n",
    "# Example usage\n",
    "\n",
    "# Get the future insights\n",
    "future_stats = future_insights(df)\n",
    "\n",
    "# Print the future insights\n",
    "for key, value in future_stats.items():\n",
    "    print(f'{key}: {value}')\n"
   ]
  },
  {
   "cell_type": "markdown",
   "id": "e2a7a08b",
   "metadata": {},
   "source": [
    "# Dashboard (Graphs and Plots Analysis)"
   ]
  },
  {
   "cell_type": "code",
   "execution_count": 21,
   "id": "710074bc",
   "metadata": {},
   "outputs": [
    {
     "data": {
      "image/png": "[encoded data removed]",
      "text/plain": [
       "<Figure size 432x288 with 1 Axes>"
      ]
     },
     "metadata": {
      "needs_background": "light"
     },
     "output_type": "display_data"
    }
   ],
   "source": [
    "# Distribution of Age:\n",
    "import matplotlib.pyplot as plt\n",
    "\n",
    "def age_distribution_graph(df):\n",
    "    df['Age'].plot(kind='hist', bins=10, color='skyblue', edgecolor='black')\n",
    "    plt.title('Distribution of Age')\n",
    "    plt.xlabel('Age')\n",
    "    plt.ylabel('Frequency')\n",
    "    plt.show()\n",
    "\n",
    "age_distribution_graph(df)"
   ]
  },
  {
   "cell_type": "code",
   "execution_count": 33,
   "id": "2d789f73",
   "metadata": {},
   "outputs": [
    {
     "data": {
      "image/png": "[encoded data removed]",
      "text/plain": [
       "<Figure size 432x288 with 1 Axes>"
      ]
     },
     "metadata": {
      "needs_background": "light"
     },
     "output_type": "display_data"
    }
   ],
   "source": [
    "# Average Total Spend by Subscription Type:\n",
    "def avg_total_spend_subscription_type(df):\n",
    "    df.groupby('Subscription Type')['Total Spend'].mean().plot(kind='bar', color='lightgreen')\n",
    "    plt.title('Average Total Spend by Subscription Type')\n",
    "    plt.xlabel('Subscription Type')\n",
    "    plt.ylabel('Average Total Spend')\n",
    "    plt.show()\n",
    "\n",
    "avg_total_spend_subscription_type(df)"
   ]
  },
  {
   "cell_type": "code",
   "execution_count": 27,
   "id": "ce8e48b5",
   "metadata": {},
   "outputs": [
    {
     "data": {
      "image/png": "[encoded data removed]",
      "text/plain": [
       "<Figure size 720x432 with 1 Axes>"
      ]
     },
     "metadata": {},
     "output_type": "display_data"
    }
   ],
   "source": [
    "# Gender Distribtion:\n",
    "def Gender_distribution(df):\n",
    "    plt.figure(figsize=(10,6))\n",
    "    df['Gender'].value_counts().plot(kind='pie', autopct='%1.1f%%')\n",
    "    plt.title('Total Spend Distribution by Contract Length')\n",
    "    plt.ylabel('')\n",
    "    plt.show()\n",
    "\n",
    "Gender_distribution(df)"
   ]
  },
  {
   "cell_type": "code",
   "execution_count": 25,
   "id": "5310da2d",
   "metadata": {},
   "outputs": [
    {
     "data": {
      "image/png": "[encoded data removed]",
      "text/plain": [
       "<Figure size 720x432 with 1 Axes>"
      ]
     },
     "metadata": {},
     "output_type": "display_data"
    }
   ],
   "source": [
    "# Total Spend Distribution by Contract Length:\n",
    "def Distribution_Total_spend_by_contact_length(df):\n",
    "    plt.figure(figsize=(10,6))\n",
    "    df.groupby('Contract Length')['Total Spend'].sum().plot(kind='pie', autopct='%1.1f%%', colors=['#ff9999','#66b3ff','#99ff99'])\n",
    "    plt.title('Total Spend Distribution by Contract Length')\n",
    "    plt.ylabel('')\n",
    "    plt.show()\n",
    "\n",
    "Distribution_Total_spend_by_contact_length(df)"
   ]
  },
  {
   "cell_type": "code",
   "execution_count": 29,
   "id": "df30307b",
   "metadata": {},
   "outputs": [
    {
     "data": {
      "image/png": "[encoded data removed]",
      "text/plain": [
       "<Figure size 432x288 with 1 Axes>"
      ]
     },
     "metadata": {
      "needs_background": "light"
     },
     "output_type": "display_data"
    }
   ],
   "source": [
    "# Churn by Gedner\n",
    "\n",
    "def churn_rate_by_gender(df):\n",
    "    churn_rate_by_gender = df.groupby('Gender')['Churn'].mean() * 100\n",
    "    churn_rate_by_gender.plot(kind='bar', color='coral')\n",
    "    plt.title('Churn Rate by Gender')\n",
    "    plt.xlabel('Gender')\n",
    "    plt.ylabel('Churn Rate (%)')\n",
    "    plt.show()\n",
    "\n",
    "churn_rate_by_gender(df)"
   ]
  },
  {
   "cell_type": "code",
   "execution_count": 32,
   "id": "2316dd44",
   "metadata": {},
   "outputs": [
    {
     "data": {
      "image/png": "[encoded data removed]",
      "text/plain": [
       "<Figure size 432x288 with 1 Axes>"
      ]
     },
     "metadata": {
      "needs_background": "light"
     },
     "output_type": "display_data"
    }
   ],
   "source": [
    "# Age Distribution by Gender:\n",
    "\n",
    "def Age_distribution_by_gender(df):\n",
    "    df[df['Gender'] == 'Male']['Age'].plot(kind='hist', bins=10, alpha=0.5, color='blue', label='Male')\n",
    "    df[df['Gender'] == 'Female']['Age'].plot(kind='hist', bins=10, alpha=0.5, color='red', label='Female')\n",
    "    plt.title('Age Distribution by Gender')\n",
    "    plt.xlabel('Age')\n",
    "    plt.ylabel('Frequency')\n",
    "    plt.legend()\n",
    "    plt.show()\n",
    "\n",
    "Age_distribution_by_gender(df)"
   ]
  },
  {
   "cell_type": "code",
   "execution_count": null,
   "id": "9fbfb071",
   "metadata": {},
   "outputs": [],
   "source": []
  }
 ],
 "metadata": {
  "kernelspec": {
   "display_name": "Python 3 (ipykernel)",
   "language": "python",
   "name": "python3"
  },
  "language_info": {
   "codemirror_mode": {
    "name": "ipython",
    "version": 3
   },
   "file_extension": ".py",
   "mimetype": "text/x-python",
   "name": "python",
   "nbconvert_exporter": "python",
   "pygments_lexer": "ipython3",
   "version": "3.9.12"
  }
 },
 "nbformat": 4,
 "nbformat_minor": 5
}
